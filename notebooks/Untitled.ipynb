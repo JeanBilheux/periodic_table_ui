{
 "cells": [
  {
   "cell_type": "code",
   "execution_count": 2,
   "metadata": {},
   "outputs": [],
   "source": [
    "import periodictable"
   ]
  },
  {
   "cell_type": "code",
   "execution_count": 3,
   "metadata": {},
   "outputs": [],
   "source": [
    "from periodictable import hydrogen"
   ]
  },
  {
   "cell_type": "code",
   "execution_count": 8,
   "metadata": {},
   "outputs": [
    {
     "name": "stdout",
     "output_type": "stream",
     "text": [
      "1-H\n",
      "D\n",
      "T\n",
      "4-H\n",
      "5-H\n",
      "6-H\n"
     ]
    }
   ],
   "source": [
    "for iso in periodictable.H:\n",
    "    print(iso)"
   ]
  },
  {
   "cell_type": "code",
   "execution_count": 21,
   "metadata": {},
   "outputs": [
    {
     "name": "stdout",
     "output_type": "stream",
     "text": [
      "<class 'str'>\n",
      "<class 'str'>\n",
      "<class 'str'>\n",
      "<class 'str'>\n",
      "<class 'str'>\n",
      "<class 'str'>\n",
      "<class 'str'>\n",
      "<class 'str'>\n",
      "<class 'str'>\n",
      "<class 'str'>\n",
      "<class 'str'>\n",
      "<class 'str'>\n",
      "<class 'str'>\n",
      "<class 'str'>\n",
      "<class 'str'>\n",
      "<class 'str'>\n",
      "<class 'str'>\n",
      "<class 'str'>\n",
      "<class 'str'>\n",
      "<class 'str'>\n",
      "<class 'str'>\n",
      "<class 'str'>\n",
      "<class 'str'>\n",
      "<class 'str'>\n",
      "<class 'str'>\n",
      "<class 'str'>\n",
      "<class 'str'>\n",
      "<class 'str'>\n",
      "<class 'str'>\n",
      "<class 'str'>\n",
      "<class 'str'>\n",
      "<class 'str'>\n",
      "<class 'str'>\n",
      "<class 'str'>\n",
      "<class 'str'>\n",
      "<class 'str'>\n",
      "<class 'str'>\n",
      "<class 'str'>\n",
      "<class 'str'>\n",
      "<class 'str'>\n"
     ]
    }
   ],
   "source": [
    "for iso in getattr(periodictable, 'Cs'):\n",
    "    print(type(str(iso)))"
   ]
  },
  {
   "cell_type": "code",
   "execution_count": 12,
   "metadata": {
    "scrolled": true
   },
   "outputs": [
    {
     "name": "stdout",
     "output_type": "stream",
     "text": [
      "112-Cs\n",
      "113-Cs\n",
      "114-Cs\n",
      "115-Cs\n",
      "116-Cs\n",
      "117-Cs\n",
      "118-Cs\n",
      "119-Cs\n",
      "120-Cs\n",
      "121-Cs\n",
      "122-Cs\n",
      "123-Cs\n",
      "124-Cs\n",
      "125-Cs\n",
      "126-Cs\n",
      "127-Cs\n",
      "128-Cs\n",
      "129-Cs\n",
      "130-Cs\n",
      "131-Cs\n",
      "132-Cs\n",
      "133-Cs\n",
      "134-Cs\n",
      "135-Cs\n",
      "136-Cs\n",
      "137-Cs\n",
      "138-Cs\n",
      "139-Cs\n",
      "140-Cs\n",
      "141-Cs\n",
      "142-Cs\n",
      "143-Cs\n",
      "144-Cs\n",
      "145-Cs\n",
      "146-Cs\n",
      "147-Cs\n",
      "148-Cs\n",
      "149-Cs\n",
      "150-Cs\n",
      "151-Cs\n"
     ]
    }
   ],
   "source": [
    "for iso2 in periodictable.Cs:\n",
    "    print(iso2)"
   ]
  },
  {
   "cell_type": "code",
   "execution_count": 13,
   "metadata": {},
   "outputs": [],
   "source": [
    "a='he'\n"
   ]
  },
  {
   "cell_type": "code",
   "execution_count": 14,
   "metadata": {},
   "outputs": [
    {
     "name": "stdout",
     "output_type": "stream",
     "text": [
      "He\n"
     ]
    }
   ],
   "source": [
    "print(a.title())"
   ]
  },
  {
   "cell_type": "code",
   "execution_count": null,
   "metadata": {},
   "outputs": [],
   "source": []
  }
 ],
 "metadata": {
  "kernelspec": {
   "display_name": "Python 3",
   "language": "python",
   "name": "python3"
  },
  "language_info": {
   "codemirror_mode": {
    "name": "ipython",
    "version": 3
   },
   "file_extension": ".py",
   "mimetype": "text/x-python",
   "name": "python",
   "nbconvert_exporter": "python",
   "pygments_lexer": "ipython3",
   "version": "3.6.4"
  }
 },
 "nbformat": 4,
 "nbformat_minor": 2
}
